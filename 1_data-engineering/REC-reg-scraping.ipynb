{
 "cells": [
  {
   "cell_type": "code",
   "execution_count": 74,
   "metadata": {},
   "outputs": [],
   "source": [
    "from selenium import webdriver\n",
    "from selenium.webdriver import FirefoxOptions\n",
    "from selenium.webdriver.common.keys import Keys\n",
    "from selenium.webdriver.common.by import By\n",
    "import os\n",
    "import time\n",
    "\n",
    "URL = \"https://www.rec-registry.gov.au/rec-registry/app/public/stc-register\"\n",
    "base_dir = os.path.abspath(os.path.join(os.getcwd(), os.pardir))+'/'"
   ]
  },
  {
   "cell_type": "code",
   "execution_count": 75,
   "metadata": {},
   "outputs": [
    {
     "name": "stdout",
     "output_type": "stream",
     "text": [
      "Value in accreditation_code_field: PVD4069315\n",
      "1\n",
      "2\n",
      "['Current owner', 'Accreditation code', 'Fuel source', 'Generation year', 'Creation year', 'Generation state', 'Status', 'Certificate serial number', 'Certificate quantity']\n",
      "['Red Energy Pty. Limited', 'PVD4069315', 'S.G.U. - solar (deemed)', '2021', '2021', 'WA', 'Invalid due to surrender', '1-70', '70']\n",
      "['Red Energy Pty. Limited', 'PVD4069315', 'S.G.U. - solar (deemed)', '2021', '2021', 'WA', 'Invalid due to surrender', '71-91', '21']\n",
      "['Transferred date', 'Seller', 'Buyer']\n",
      "['5/5/2021 03:50', 'SIKHAN PTY LTD', 'RETA (WA) Pty Ltd']\n",
      "['11/5/2021 01:42', 'RETA (WA) Pty Ltd', 'Snowy Hydro Limited']\n",
      "['3/2/2022 23:56', 'Snowy Hydro Limited', 'Red Energy Pty. Limited']\n",
      "['6/5/2021 05:07', 'SIKHAN PTY LTD', 'RETA (WA) Pty Ltd']\n",
      "['11/5/2021 01:42', 'RETA (WA) Pty Ltd', 'Snowy Hydro Limited']\n",
      "['3/2/2022 23:56', 'Snowy Hydro Limited', 'Red Energy Pty. Limited']\n"
     ]
    }
   ],
   "source": [
    "opts = FirefoxOptions()\n",
    "opts.add_argument(\"--headless\")\n",
    "driver = webdriver.Firefox(options=opts)\n",
    "driver.get(URL)\n",
    "\n",
    "accreditation_code_field = driver.find_element(By.ID, 'accreditationCode')  # adjust the locator if it's not accurate\n",
    "accreditation_code_field.send_keys('PVD4069315')\n",
    "accreditation_code_field.send_keys(Keys.ENTER)\n",
    "\n",
    "time.sleep(10) \n",
    "\n",
    "value = accreditation_code_field.get_attribute(\"value\")\n",
    "print(\"Value in accreditation_code_field:\", value)\n",
    "\n",
    "# Extract table headers\n",
    "headers = [header.text for header in driver.find_elements(By.XPATH, '//*[@id=\"search-ranges-results\"]/thead/tr/th')]\n",
    "\n",
    "# Extract table rows\n",
    "rows = driver.find_elements(By.XPATH, '//*[@id=\"search-ranges-results\"]/tbody/tr')\n",
    "\n",
    "data = []\n",
    "data2 = []\n",
    "\n",
    "count = 0\n",
    "for row in rows:\n",
    "    count += 1\n",
    "    print(count)\n",
    "    cols = row.find_elements(By.TAG_NAME, 'td') \n",
    "    \n",
    "    # Click the link\n",
    "    link = cols[7].find_element(By.TAG_NAME, 'a')\n",
    "    link.click()\n",
    "    time.sleep(1) \n",
    "\n",
    "    # start get data\n",
    "    headers2 = [header.text for header in driver.find_elements(By.XPATH, '//*[@id=\"transfer-history-results\"]/thead/tr/th')]\n",
    "    rows2 = driver.find_elements(By.XPATH, '//*[@id=\"transfer-history-results\"]/tbody/tr')\n",
    "\n",
    "    for row2 in rows2:\n",
    "         cols2 = row2.find_elements(By.TAG_NAME, 'td') \n",
    "         cols_data2 = [ele.text for ele in cols2]\n",
    "         data2.append(cols_data2)\n",
    "    # end get data\n",
    "\n",
    "    # close the popup\n",
    "    html = driver.find_elements(By.XPATH, '//*[@id=\"certificate-details-dialog\"]')[0]\n",
    "    html.send_keys(Keys.ESCAPE)\n",
    "\n",
    "    cols_data = [ele.text for ele in cols]\n",
    "    data.append(cols_data)\n",
    "\n",
    "# Close the browser\n",
    "driver.close()\n",
    "\n",
    "# Print the data\n",
    "print(headers)\n",
    "for row_data in data:\n",
    "    print(row_data)\n",
    "\n",
    "print(headers2)\n",
    "for row_data in data2:\n",
    "    print(row_data)\n"
   ]
  }
 ],
 "metadata": {
  "kernelspec": {
   "display_name": "Python 3",
   "language": "python",
   "name": "python3"
  },
  "language_info": {
   "codemirror_mode": {
    "name": "ipython",
    "version": 3
   },
   "file_extension": ".py",
   "mimetype": "text/x-python",
   "name": "python",
   "nbconvert_exporter": "python",
   "pygments_lexer": "ipython3",
   "version": "3.8.10"
  }
 },
 "nbformat": 4,
 "nbformat_minor": 2
}

{
 "cells": [
  {
   "cell_type": "code",
   "execution_count": null,
   "metadata": {},
   "outputs": [],
   "source": [
    "import pandas as pd\n",
    "import matplotlib.pyplot as plt\n",
    "import numpy as np\n",
    "import geopandas as gpd\n",
    "import folium\n",
    "import seaborn as sns\n",
    "from tabulate import tabulate\n",
    "import os\n",
    "\n",
    "# Get parent directory i.e. where the repo is cloned from there we can access the data folder\n",
    "base_dir = os.path.abspath(os.path.join(os.getcwd(), os.pardir))+'/'\n",
    "\n",
    "df = pd.read_pickle(base_dir+'0_datasets/REC_database_optimized_cleaned.pkl')\n",
    "\n",
    "pd.set_option('display.max_rows', None)\n",
    "\n",
    "#check pc specs for multiprocessing\n",
    "import multiprocessing\n",
    "from psutil import virtual_memory\n",
    "print(\"CPU cores: \",multiprocessing.cpu_count())\n",
    "print(\"RAM: \",round(virtual_memory().total / 1e9,0),\"GB\")"
   ]
  },
  {
   "cell_type": "code",
   "execution_count": null,
   "metadata": {},
   "outputs": [],
   "source": [
    "df.info()"
   ]
  },
  {
   "cell_type": "code",
   "execution_count": null,
   "metadata": {},
   "outputs": [],
   "source": [
    "# check categories and their frquencies for all categorical variables\n",
    "categorical_variables_list = []\n",
    "for col in df.columns:\n",
    "    if df[col].dtype == 'category':\n",
    "        categorical_variables_list.append(col)\n",
    "\n",
    "for i, value in enumerate(categorical_variables_list):  \n",
    "    output = df[categorical_variables_list[i]].value_counts(normalize=False).to_frame().reset_index()\n",
    "    print(value,'\\n', tabulate(output.head(50), floatfmt='.0f'))"
   ]
  }
 ],
 "metadata": {
  "kernelspec": {
   "display_name": "Python 3",
   "language": "python",
   "name": "python3"
  },
  "language_info": {
   "codemirror_mode": {
    "name": "ipython",
    "version": 3
   },
   "file_extension": ".py",
   "mimetype": "text/x-python",
   "name": "python",
   "nbconvert_exporter": "python",
   "pygments_lexer": "ipython3",
   "version": "3.8.10"
  },
  "orig_nbformat": 4
 },
 "nbformat": 4,
 "nbformat_minor": 2
}

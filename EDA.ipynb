{
 "cells": [
  {
   "cell_type": "markdown",
   "metadata": {},
   "source": [
    "# Renewable Energy Data EDA"
   ]
  },
  {
   "cell_type": "markdown",
   "metadata": {},
   "source": [
    "### Import to dataframes"
   ]
  },
  {
   "cell_type": "code",
   "execution_count": 164,
   "metadata": {},
   "outputs": [],
   "source": [
    "import pandas as pd\n",
    "import matplotlib.pyplot as plt\n",
    "import numpy as np\n",
    "\n",
    "# Postcode data (SSI = small scale installations, SGU = small generation unit, SWH = Solar water heating )\n",
    "df_SSI_SGU_Hydro = pd.read_csv(\"data/PostCode Data/Postcode data for small-scale installations - SGU-Hydro.csv\")\n",
    "df_SSI_SGU_Solar = pd.read_csv(\"data/PostCode Data/Postcode data for small-scale installations - SGU-Solar.csv\")\n",
    "df_SSI_SGU_Wind = pd.read_csv(\"data/PostCode Data/Postcode data for small-scale installations - SGU-Wind.csv\")\n",
    "df_SSI_SWH_Air_source_heat_pump = pd.read_csv(\"data/PostCode Data/Postcode data for small-scale installations - SWH-Air-source-heat-pump.csv\")\n",
    "df_SSI_SWH_Solar = pd.read_csv(\"data/PostCode Data/Postcode data for small-scale installations - SWH-Solar.csv\")\n",
    "\n",
    "# Battery installations with SSI by state\n",
    "df_battery_installations = pd.read_csv(\"data/PostCode Data/State data for battery installations with small-scale systems.csv\")\n",
    "\n",
    "# Australian postcode data reference dataset\n",
    "df_AU_postcode_dataset = pd.read_excel(\"data/australian_postcodes.xlsx\")\n",
    "\n",
    "# Whole REC database (REC = renewable energy certificate)\n",
    "df_REC_database = pd.read_csv(\"data/wholeRECdatabase_20230120_no_dups.csv\",encoding='cp1252')"
   ]
  },
  {
   "cell_type": "code",
   "execution_count": 165,
   "metadata": {},
   "outputs": [
    {
     "name": "stdout",
     "output_type": "stream",
     "text": [
      "DataFrame 1 - Name: Unnamed, Shape: (20, 7)\n",
      "DataFrame 2 - Name: Unnamed, Shape: (2806, 41)\n",
      "DataFrame 3 - Name: Unnamed, Shape: (253, 5)\n",
      "DataFrame 4 - Name: Unnamed, Shape: (2610, 21)\n",
      "DataFrame 5 - Name: Unnamed, Shape: (2964, 21)\n",
      "DataFrame 6 - Name: Unnamed, Shape: (10, 10)\n",
      "DataFrame 7 - Name: Unnamed, Shape: (18513, 33)\n",
      "DataFrame 8 - Name: Unnamed, Shape: (6271416, 17)\n"
     ]
    }
   ],
   "source": [
    "df_list = [\n",
    "df_SSI_SGU_Hydro,\n",
    "df_SSI_SGU_Solar,\n",
    "df_SSI_SGU_Wind,\n",
    "df_SSI_SWH_Air_source_heat_pump,\n",
    "df_SSI_SWH_Solar,\n",
    "df_battery_installations,\n",
    "df_AU_postcode_dataset,\n",
    "df_REC_database\n",
    "]\n",
    "\n",
    "for idx, df in enumerate(df_list, start=1):\n",
    "    print(f\"DataFrame {idx} - Name: {df.name if hasattr(df, 'name') else 'Unnamed'}, Shape: {df.shape}\")"
   ]
  },
  {
   "cell_type": "code",
   "execution_count": 166,
   "metadata": {},
   "outputs": [
    {
     "name": "stdout",
     "output_type": "stream",
     "text": [
      "<class 'pandas.core.frame.DataFrame'>\n",
      "RangeIndex: 6271416 entries, 0 to 6271415\n",
      "Data columns (total 17 columns):\n",
      " #   Column                       Dtype  \n",
      "---  ------                       -----  \n",
      " 0   Status                       object \n",
      " 1   Owner                        object \n",
      " 2   Accreditation_Code           object \n",
      " 3   Fuel_Source_Active           bool   \n",
      " 4   Fuel_Source_Type             object \n",
      " 5   Fuel_Source_Display_Name     object \n",
      " 6   Generation_Year              int64  \n",
      " 7   Status.1                     object \n",
      " 8   Start_Serial                 float64\n",
      " 9   End_Serial                   float64\n",
      " 10  State                        object \n",
      " 11  Owner_Name                   object \n",
      " 12  Creation_Year                int64  \n",
      " 13  Range_ID                     int64  \n",
      " 14  Creation_Date                object \n",
      " 15  Public_Registered_Person_ID  int64  \n",
      " 16  Created_By                   object \n",
      "dtypes: bool(1), float64(2), int64(4), object(10)\n",
      "memory usage: 771.5+ MB\n"
     ]
    }
   ],
   "source": [
    "df_REC_database.info()"
   ]
  },
  {
   "cell_type": "code",
   "execution_count": 167,
   "metadata": {},
   "outputs": [],
   "source": [
    "df_compare_systems = pd.DataFrame([], columns=['Type','Locations','System Quantity', 'KW'])"
   ]
  },
  {
   "cell_type": "code",
   "execution_count": 168,
   "metadata": {},
   "outputs": [
    {
     "name": "stdout",
     "output_type": "stream",
     "text": [
      "20 unique hydro postcodes\n",
      "20 total hydro units\n",
      "50.7 total hydro kw\n"
     ]
    },
    {
     "data": {
      "text/html": [
       "<div>\n",
       "<style scoped>\n",
       "    .dataframe tbody tr th:only-of-type {\n",
       "        vertical-align: middle;\n",
       "    }\n",
       "\n",
       "    .dataframe tbody tr th {\n",
       "        vertical-align: top;\n",
       "    }\n",
       "\n",
       "    .dataframe thead th {\n",
       "        text-align: right;\n",
       "    }\n",
       "</style>\n",
       "<table border=\"1\" class=\"dataframe\">\n",
       "  <thead>\n",
       "    <tr style=\"text-align: right;\">\n",
       "      <th></th>\n",
       "      <th>Type</th>\n",
       "      <th>Locations</th>\n",
       "      <th>System Quantity</th>\n",
       "      <th>KW</th>\n",
       "    </tr>\n",
       "  </thead>\n",
       "  <tbody>\n",
       "    <tr>\n",
       "      <th>0</th>\n",
       "      <td>Hydro</td>\n",
       "      <td>20</td>\n",
       "      <td>20</td>\n",
       "      <td>50.7</td>\n",
       "    </tr>\n",
       "  </tbody>\n",
       "</table>\n",
       "</div>"
      ],
      "text/plain": [
       "    Type Locations System Quantity    KW\n",
       "0  Hydro        20              20  50.7"
      ]
     },
     "execution_count": 168,
     "metadata": {},
     "output_type": "execute_result"
    }
   ],
   "source": [
    "sgu_hydro = df_SSI_SGU_Hydro[\"Small Unit Installation Postcode\"].drop_duplicates()\n",
    "\n",
    "postcodes = sgu_hydro.shape[0]\n",
    "quantity = sum(df_SSI_SGU_Hydro[\"Previous Years (2001-2021) - Installation Quantity\"])\n",
    "kw = round(sum(df_SSI_SGU_Hydro[\"Previous Years (2001-2021) - SGU Output Rated Output In kW\"]),2)\n",
    "\n",
    "print(postcodes, \"unique hydro postcodes\")\n",
    "print(quantity, \"total hydro units\")\n",
    "print(kw , \"total hydro kw\")\n",
    "\n",
    "hydro_df = pd.DataFrame([[\"Hydro\",postcodes, quantity, kw]],columns=['Type', 'Locations','System Quantity', 'KW'])\n",
    "df_compare_systems = pd.concat([df_compare_systems, hydro_df])\n",
    "df_compare_systems\n",
    "\n"
   ]
  },
  {
   "cell_type": "code",
   "execution_count": 169,
   "metadata": {},
   "outputs": [
    {
     "name": "stdout",
     "output_type": "stream",
     "text": [
      "2806 unique solar postcodes\n",
      "3073708 total solar units\n",
      "16519611.88 total solar kw\n"
     ]
    },
    {
     "data": {
      "text/html": [
       "<div>\n",
       "<style scoped>\n",
       "    .dataframe tbody tr th:only-of-type {\n",
       "        vertical-align: middle;\n",
       "    }\n",
       "\n",
       "    .dataframe tbody tr th {\n",
       "        vertical-align: top;\n",
       "    }\n",
       "\n",
       "    .dataframe thead th {\n",
       "        text-align: right;\n",
       "    }\n",
       "</style>\n",
       "<table border=\"1\" class=\"dataframe\">\n",
       "  <thead>\n",
       "    <tr style=\"text-align: right;\">\n",
       "      <th></th>\n",
       "      <th>Type</th>\n",
       "      <th>Locations</th>\n",
       "      <th>System Quantity</th>\n",
       "      <th>KW</th>\n",
       "    </tr>\n",
       "  </thead>\n",
       "  <tbody>\n",
       "    <tr>\n",
       "      <th>0</th>\n",
       "      <td>Hydro</td>\n",
       "      <td>20</td>\n",
       "      <td>20</td>\n",
       "      <td>50.70</td>\n",
       "    </tr>\n",
       "    <tr>\n",
       "      <th>0</th>\n",
       "      <td>Solar</td>\n",
       "      <td>2806</td>\n",
       "      <td>3073708</td>\n",
       "      <td>16519611.88</td>\n",
       "    </tr>\n",
       "  </tbody>\n",
       "</table>\n",
       "</div>"
      ],
      "text/plain": [
       "    Type Locations System Quantity           KW\n",
       "0  Hydro        20              20        50.70\n",
       "0  Solar      2806         3073708  16519611.88"
      ]
     },
     "execution_count": 169,
     "metadata": {},
     "output_type": "execute_result"
    }
   ],
   "source": [
    "sgu_solar = df_SSI_SGU_Solar[\"Small Unit Installation Postcode\"].drop_duplicates()\n",
    "\n",
    "postcodes = sgu_solar.shape[0]\n",
    "quantity = sum(df_SSI_SGU_Solar[\"Previous Years (2001-2021) - Installation Quantity\"])\n",
    "kw = round(sum(df_SSI_SGU_Solar[\"Previous Years (2001-2021) - SGU Output Rated Output In kW\"]),2)\n",
    "\n",
    "print(postcodes, \"unique solar postcodes\")\n",
    "print(quantity, \"total solar units\")\n",
    "print(kw , \"total solar kw\")\n",
    "\n",
    "solar_df = pd.DataFrame([[\"Solar\",postcodes, quantity, kw]],columns=['Type', 'Locations','System Quantity', 'KW'])\n",
    "df_compare_systems = pd.concat([df_compare_systems, solar_df])\n",
    "df_compare_systems\n"
   ]
  },
  {
   "cell_type": "code",
   "execution_count": 170,
   "metadata": {},
   "outputs": [
    {
     "name": "stdout",
     "output_type": "stream",
     "text": [
      "253 unique wind postcodes\n",
      "424 total wind units\n",
      "1468.67 total wind kw\n"
     ]
    },
    {
     "data": {
      "text/html": [
       "<div>\n",
       "<style scoped>\n",
       "    .dataframe tbody tr th:only-of-type {\n",
       "        vertical-align: middle;\n",
       "    }\n",
       "\n",
       "    .dataframe tbody tr th {\n",
       "        vertical-align: top;\n",
       "    }\n",
       "\n",
       "    .dataframe thead th {\n",
       "        text-align: right;\n",
       "    }\n",
       "</style>\n",
       "<table border=\"1\" class=\"dataframe\">\n",
       "  <thead>\n",
       "    <tr style=\"text-align: right;\">\n",
       "      <th></th>\n",
       "      <th>Type</th>\n",
       "      <th>Locations</th>\n",
       "      <th>System Quantity</th>\n",
       "      <th>KW</th>\n",
       "    </tr>\n",
       "  </thead>\n",
       "  <tbody>\n",
       "    <tr>\n",
       "      <th>0</th>\n",
       "      <td>Hydro</td>\n",
       "      <td>20</td>\n",
       "      <td>20</td>\n",
       "      <td>50.70</td>\n",
       "    </tr>\n",
       "    <tr>\n",
       "      <th>0</th>\n",
       "      <td>Solar</td>\n",
       "      <td>2806</td>\n",
       "      <td>3073708</td>\n",
       "      <td>16519611.88</td>\n",
       "    </tr>\n",
       "    <tr>\n",
       "      <th>0</th>\n",
       "      <td>Wind</td>\n",
       "      <td>253</td>\n",
       "      <td>424</td>\n",
       "      <td>1468.67</td>\n",
       "    </tr>\n",
       "  </tbody>\n",
       "</table>\n",
       "</div>"
      ],
      "text/plain": [
       "    Type Locations System Quantity           KW\n",
       "0  Hydro        20              20        50.70\n",
       "0  Solar      2806         3073708  16519611.88\n",
       "0   Wind       253             424      1468.67"
      ]
     },
     "execution_count": 170,
     "metadata": {},
     "output_type": "execute_result"
    }
   ],
   "source": [
    "sgu_wind = df_SSI_SGU_Wind[\"Small Unit Installation Postcode\"].drop_duplicates()\n",
    "\n",
    "postcodes = sgu_wind.shape[0]\n",
    "quantity = sum(df_SSI_SGU_Wind[\"Previous Years (2001-2021) - Installation Quantity\"])\n",
    "kw = round(sum(df_SSI_SGU_Wind[\"Previous Years (2001-2021) - SGU Output Rated Output In kW\"]),2)\n",
    "\n",
    "print(postcodes, \"unique wind postcodes\")\n",
    "print(quantity, \"total wind units\")\n",
    "print(kw , \"total wind kw\")\n",
    "\n",
    "wind_df = pd.DataFrame([[\"Wind\",postcodes, quantity, kw]],columns=['Type', 'Locations','System Quantity', 'KW'])\n",
    "df_compare_systems = pd.concat([df_compare_systems, wind_df])\n",
    "df_compare_systems\n"
   ]
  },
  {
   "cell_type": "code",
   "execution_count": 173,
   "metadata": {},
   "outputs": [
    {
     "name": "stdout",
     "output_type": "stream",
     "text": [
      "2610 unique heat-pump postcodes\n",
      "365635 total heat-pump units\n",
      "0 total heat-pump kw\n"
     ]
    },
    {
     "data": {
      "text/html": [
       "<div>\n",
       "<style scoped>\n",
       "    .dataframe tbody tr th:only-of-type {\n",
       "        vertical-align: middle;\n",
       "    }\n",
       "\n",
       "    .dataframe tbody tr th {\n",
       "        vertical-align: top;\n",
       "    }\n",
       "\n",
       "    .dataframe thead th {\n",
       "        text-align: right;\n",
       "    }\n",
       "</style>\n",
       "<table border=\"1\" class=\"dataframe\">\n",
       "  <thead>\n",
       "    <tr style=\"text-align: right;\">\n",
       "      <th></th>\n",
       "      <th>Type</th>\n",
       "      <th>Locations</th>\n",
       "      <th>System Quantity</th>\n",
       "      <th>KW</th>\n",
       "    </tr>\n",
       "  </thead>\n",
       "  <tbody>\n",
       "    <tr>\n",
       "      <th>0</th>\n",
       "      <td>Hydro</td>\n",
       "      <td>20</td>\n",
       "      <td>20</td>\n",
       "      <td>50.70</td>\n",
       "    </tr>\n",
       "    <tr>\n",
       "      <th>0</th>\n",
       "      <td>Solar</td>\n",
       "      <td>2806</td>\n",
       "      <td>3073708</td>\n",
       "      <td>16519611.88</td>\n",
       "    </tr>\n",
       "    <tr>\n",
       "      <th>0</th>\n",
       "      <td>Wind</td>\n",
       "      <td>253</td>\n",
       "      <td>424</td>\n",
       "      <td>1468.67</td>\n",
       "    </tr>\n",
       "    <tr>\n",
       "      <th>0</th>\n",
       "      <td>Heat-pump</td>\n",
       "      <td>2610</td>\n",
       "      <td>365635</td>\n",
       "      <td>0.00</td>\n",
       "    </tr>\n",
       "  </tbody>\n",
       "</table>\n",
       "</div>"
      ],
      "text/plain": [
       "        Type Locations System Quantity           KW\n",
       "0      Hydro        20              20        50.70\n",
       "0      Solar      2806         3073708  16519611.88\n",
       "0       Wind       253             424      1468.67\n",
       "0  Heat-pump      2610          365635         0.00"
      ]
     },
     "execution_count": 173,
     "metadata": {},
     "output_type": "execute_result"
    }
   ],
   "source": [
    "swh_hp = df_SSI_SWH_Air_source_heat_pump[\"Small Unit Installation Postcode\"].drop_duplicates()\n",
    "\n",
    "postcodes = swh_hp.shape[0]\n",
    "quantity = sum(df_SSI_SWH_Air_source_heat_pump[\"Previous Years (2001-2021) - Installation Quantity\"])\n",
    "kw = 0 # no kw column\n",
    "\n",
    "print(postcodes, \"unique heat-pump postcodes\")\n",
    "print(quantity, \"total heat-pump units\")\n",
    "print(kw , \"total heat-pump kw\")\n",
    "\n",
    "hp_df = pd.DataFrame([[\"Heat-pump\",postcodes, quantity, kw]],columns=['Type', 'Locations','System Quantity', 'KW'])\n",
    "df_compare_systems = pd.concat([df_compare_systems, hp_df])\n",
    "df_compare_systems\n"
   ]
  },
  {
   "cell_type": "code",
   "execution_count": 174,
   "metadata": {},
   "outputs": [
    {
     "name": "stdout",
     "output_type": "stream",
     "text": [
      "2964 unique swh-solar postcodes\n",
      "1036390 total swh-solar units\n",
      "0 total swh-solar kw\n"
     ]
    },
    {
     "data": {
      "text/html": [
       "<div>\n",
       "<style scoped>\n",
       "    .dataframe tbody tr th:only-of-type {\n",
       "        vertical-align: middle;\n",
       "    }\n",
       "\n",
       "    .dataframe tbody tr th {\n",
       "        vertical-align: top;\n",
       "    }\n",
       "\n",
       "    .dataframe thead th {\n",
       "        text-align: right;\n",
       "    }\n",
       "</style>\n",
       "<table border=\"1\" class=\"dataframe\">\n",
       "  <thead>\n",
       "    <tr style=\"text-align: right;\">\n",
       "      <th></th>\n",
       "      <th>Type</th>\n",
       "      <th>Locations</th>\n",
       "      <th>System Quantity</th>\n",
       "      <th>KW</th>\n",
       "    </tr>\n",
       "  </thead>\n",
       "  <tbody>\n",
       "    <tr>\n",
       "      <th>0</th>\n",
       "      <td>Hydro</td>\n",
       "      <td>20</td>\n",
       "      <td>20</td>\n",
       "      <td>50.70</td>\n",
       "    </tr>\n",
       "    <tr>\n",
       "      <th>0</th>\n",
       "      <td>Solar</td>\n",
       "      <td>2806</td>\n",
       "      <td>3073708</td>\n",
       "      <td>16519611.88</td>\n",
       "    </tr>\n",
       "    <tr>\n",
       "      <th>0</th>\n",
       "      <td>Wind</td>\n",
       "      <td>253</td>\n",
       "      <td>424</td>\n",
       "      <td>1468.67</td>\n",
       "    </tr>\n",
       "    <tr>\n",
       "      <th>0</th>\n",
       "      <td>Heat-pump</td>\n",
       "      <td>2610</td>\n",
       "      <td>365635</td>\n",
       "      <td>0.00</td>\n",
       "    </tr>\n",
       "    <tr>\n",
       "      <th>0</th>\n",
       "      <td>SWH-Solar</td>\n",
       "      <td>2964</td>\n",
       "      <td>1036390</td>\n",
       "      <td>0.00</td>\n",
       "    </tr>\n",
       "  </tbody>\n",
       "</table>\n",
       "</div>"
      ],
      "text/plain": [
       "        Type Locations System Quantity           KW\n",
       "0      Hydro        20              20        50.70\n",
       "0      Solar      2806         3073708  16519611.88\n",
       "0       Wind       253             424      1468.67\n",
       "0  Heat-pump      2610          365635         0.00\n",
       "0  SWH-Solar      2964         1036390         0.00"
      ]
     },
     "execution_count": 174,
     "metadata": {},
     "output_type": "execute_result"
    }
   ],
   "source": [
    "swh_solar = df_SSI_SWH_Solar[\"Small Unit Installation Postcode\"].drop_duplicates()\n",
    "\n",
    "postcodes = swh_solar.shape[0]\n",
    "quantity = sum(df_SSI_SWH_Solar[\"Previous Years (2001-2021) - Installation Quantity\"])\n",
    "kw = 0 # no kw column\n",
    "\n",
    "print(postcodes, \"unique swh-solar postcodes\")\n",
    "print(quantity, \"total swh-solar units\")\n",
    "print(kw , \"total swh-solar kw\")\n",
    "\n",
    "swh_solar_df = pd.DataFrame([[\"SWH-Solar\",postcodes, quantity, kw]],columns=['Type', 'Locations','System Quantity', 'KW'])\n",
    "df_compare_systems = pd.concat([df_compare_systems, swh_solar_df])\n",
    "df_compare_systems\n"
   ]
  },
  {
   "cell_type": "code",
   "execution_count": 191,
   "metadata": {},
   "outputs": [
    {
     "data": {
      "image/png": "[encoded data removed]",
      "text/plain": [
       "<Figure size 640x480 with 1 Axes>"
      ]
     },
     "metadata": {},
     "output_type": "display_data"
    },
    {
     "data": {
      "image/png": "[encoded data removed]",
      "text/plain": [
       "<Figure size 640x480 with 1 Axes>"
      ]
     },
     "metadata": {},
     "output_type": "display_data"
    },
    {
     "data": {
      "image/png": "[encoded data removed]",
      "text/plain": [
       "<Figure size 640x480 with 1 Axes>"
      ]
     },
     "metadata": {},
     "output_type": "display_data"
    }
   ],
   "source": [
    "df_compare_systems[[\"Locations\",\"System Quantity\",\"KW\"]] = df_compare_systems[[\"Locations\",\"System Quantity\",\"KW\"]].apply(pd.to_numeric)\n",
    "Locations_graph = df_compare_systems.plot.bar(x='Type', y='Locations', rot=0)\n",
    "System_Quantity_graph = df_compare_systems.plot.bar(x='Type', y='System Quantity', rot=0)\n",
    "kW_graph = df_compare_systems.plot.bar(x='Type', y='KW', rot=0)\n"
   ]
  },
  {
   "cell_type": "markdown",
   "metadata": {},
   "source": [
    "### From this, there are two questions:\n",
    "\n",
    "1- Do swh units not produce KW or is it simply not included in the datset?\n",
    "\n",
    "2- Is the observed KW value already calculated based on the system quantity, or should the two be multiplied to find the overall kw production per postcode?\n",
    "\n",
    "\n",
    "### The main observations\n",
    "\n",
    "1- Most locations that have solar panels will also have a solar water heating which makes intuitive sense.\n",
    "\n",
    "2- In a given household you may have 1 heat pump and 1 SWH-solar but many panels which explains the quantity difference.\n",
    "\n",
    "3- It's very rare for residential properties to have wind or hydro which explains the low numbers compared to solar.\n",
    "\n",
    "4- Between 2001 and 2021 (The last 20 years), Australian residents installed around 16 Million kW of solar energy, 1500kW of Wind energy, and 50kW of hydro energy.\n"
   ]
  },
  {
   "cell_type": "code",
   "execution_count": null,
   "metadata": {},
   "outputs": [],
   "source": []
  },
  {
   "cell_type": "markdown",
   "metadata": {},
   "source": []
  },
  {
   "cell_type": "markdown",
   "metadata": {},
   "source": []
  }
 ],
 "metadata": {
  "kernelspec": {
   "display_name": "Python 3",
   "language": "python",
   "name": "python3"
  },
  "language_info": {
   "codemirror_mode": {
    "name": "ipython",
    "version": 3
   },
   "file_extension": ".py",
   "mimetype": "text/x-python",
   "name": "python",
   "nbconvert_exporter": "python",
   "pygments_lexer": "ipython3",
   "version": "3.11.1"
  },
  "orig_nbformat": 4
 },
 "nbformat": 4,
 "nbformat_minor": 2
}
